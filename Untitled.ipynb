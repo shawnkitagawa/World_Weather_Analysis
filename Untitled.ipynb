{
 "cells": [
  {
   "cell_type": "code",
   "execution_count": 1,
   "id": "da67a209",
   "metadata": {},
   "outputs": [],
   "source": [
    "#Importing random moudle\n",
    "\n",
    "import random\n"
   ]
  },
  {
   "cell_type": "code",
   "execution_count": 2,
   "id": "e9328571",
   "metadata": {},
   "outputs": [
    {
     "data": {
      "text/plain": [
       "-39"
      ]
     },
     "execution_count": 2,
     "metadata": {},
     "output_type": "execute_result"
    }
   ],
   "source": [
    "random.randint(-90,90)"
   ]
  },
  {
   "cell_type": "code",
   "execution_count": 3,
   "id": "cd6dd94b",
   "metadata": {},
   "outputs": [
    {
     "data": {
      "text/plain": [
       "0.14129605867561723"
      ]
     },
     "execution_count": 3,
     "metadata": {},
     "output_type": "execute_result"
    }
   ],
   "source": [
    "random.random()"
   ]
  },
  {
   "cell_type": "code",
   "execution_count": 4,
   "id": "b664932f",
   "metadata": {},
   "outputs": [
    {
     "data": {
      "text/plain": [
       "-39.64665799681305"
      ]
     },
     "execution_count": 4,
     "metadata": {},
     "output_type": "execute_result"
    }
   ],
   "source": [
    "random_number = random.randint(-90,89) + random.random()\n",
    "random_number"
   ]
  },
  {
   "cell_type": "code",
   "execution_count": 5,
   "id": "e18f8c7a",
   "metadata": {},
   "outputs": [],
   "source": [
    "x = 1\n",
    "latitudes = []\n",
    "while x < 11:\n",
    "    random_lat = random.randint(-90, 89) + random.random()\n",
    "    latitudes.append(random_lat)\n",
    "    x += 1"
   ]
  },
  {
   "cell_type": "code",
   "execution_count": 6,
   "id": "a6a4288f",
   "metadata": {},
   "outputs": [
    {
     "name": "stdout",
     "output_type": "stream",
     "text": [
      "[-74.01680141235614, -47.09911500314782, 64.10106472383488, 24.323912646126825, 88.58674317251112, -7.565426969938818, -58.6523811244343, 4.432688394349367, 85.4927024491987, -68.7224698832992]\n"
     ]
    }
   ],
   "source": [
    "print(latitudes)"
   ]
  },
  {
   "cell_type": "code",
   "execution_count": 7,
   "id": "06af2259",
   "metadata": {},
   "outputs": [
    {
     "name": "stdout",
     "output_type": "stream",
     "text": [
      "hello world\n"
     ]
    }
   ],
   "source": [
    "print(\"hello world\")"
   ]
  },
  {
   "cell_type": "code",
   "execution_count": 8,
   "id": "226e54ad",
   "metadata": {},
   "outputs": [
    {
     "data": {
      "text/plain": [
       "78"
      ]
     },
     "execution_count": 8,
     "metadata": {},
     "output_type": "execute_result"
    }
   ],
   "source": [
    "random.randrange(-90,90, step = 1)\n"
   ]
  },
  {
   "cell_type": "code",
   "execution_count": 10,
   "id": "7eb82a57",
   "metadata": {},
   "outputs": [
    {
     "data": {
      "text/plain": [
       "36"
      ]
     },
     "execution_count": 10,
     "metadata": {},
     "output_type": "execute_result"
    }
   ],
   "source": [
    "random.randrange(-90,90,step = 3)"
   ]
  },
  {
   "cell_type": "code",
   "execution_count": 11,
   "id": "8c847a5b",
   "metadata": {},
   "outputs": [
    {
     "data": {
      "text/plain": [
       "-9.647656792566721"
      ]
     },
     "execution_count": 11,
     "metadata": {},
     "output_type": "execute_result"
    }
   ],
   "source": [
    "random.uniform(-90,90)"
   ]
  },
  {
   "cell_type": "code",
   "execution_count": 12,
   "id": "85af78c8",
   "metadata": {},
   "outputs": [],
   "source": [
    "#Import the Numpy module\n",
    "\n",
    "import numpy as np"
   ]
  },
  {
   "cell_type": "code",
   "execution_count": 16,
   "id": "48be4467",
   "metadata": {},
   "outputs": [
    {
     "data": {
      "text/plain": [
       "array([-11.36053105,  76.28368902, -36.06690995])"
      ]
     },
     "execution_count": 16,
     "metadata": {},
     "output_type": "execute_result"
    }
   ],
   "source": [
    "np.random.uniform(-90,90, size = 3)"
   ]
  },
  {
   "cell_type": "code",
   "execution_count": 17,
   "id": "e83b36e8",
   "metadata": {},
   "outputs": [],
   "source": [
    "import timeit"
   ]
  },
  {
   "cell_type": "code",
   "execution_count": 18,
   "id": "04aa3dee",
   "metadata": {},
   "outputs": [
    {
     "name": "stdout",
     "output_type": "stream",
     "text": [
      "19 µs ± 1.12 µs per loop (mean ± std. dev. of 7 runs, 100000 loops each)\n"
     ]
    }
   ],
   "source": [
    "%timeit np.random.uniform(-90, 90, size = 1500)"
   ]
  },
  {
   "cell_type": "code",
   "execution_count": 19,
   "id": "1b91be70",
   "metadata": {},
   "outputs": [
    {
     "name": "stdout",
     "output_type": "stream",
     "text": [
      "1.8 ms ± 72.3 µs per loop (mean ± std. dev. of 7 runs, 1000 loops each)\n"
     ]
    }
   ],
   "source": [
    "def latitudes(size):\n",
    "    latitudes = []\n",
    "    x = 0\n",
    "    while x < (size):\n",
    "        random_lat = random.randint(-90, 90) + random.random()\n",
    "        latitudes.append(random_lat)\n",
    "        x += 1\n",
    "    return latitudes\n",
    "# Call the function with 1500.\n",
    "%timeit latitudes(1500)"
   ]
  },
  {
   "cell_type": "code",
   "execution_count": 2,
   "id": "7362af8a",
   "metadata": {},
   "outputs": [],
   "source": [
    "# import linear regression from the SciPy stats module\n",
    "\n",
    "from scipy.stats import linregress\n"
   ]
  },
  {
   "cell_type": "code",
   "execution_count": 3,
   "id": "b71f85c2",
   "metadata": {},
   "outputs": [],
   "source": [
    "# Create an equal number of latitudes and temperatures.\n",
    "lats = [42.5, 43.9, 8.1, 36.8, 79.9, 69.1, 25.7, 15.3, 12.7, 64.5]\n",
    "temps = [80.5, 75.3, 90.9, 90.0, 40.4, 62.3, 85.4, 79.6, 72.5, 72.0]"
   ]
  },
  {
   "cell_type": "code",
   "execution_count": 4,
   "id": "b284e70c",
   "metadata": {},
   "outputs": [
    {
     "name": "stdout",
     "output_type": "stream",
     "text": [
      "y = -0.45x + 92.94\n"
     ]
    }
   ],
   "source": [
    "#Perfrom linear regression.\n",
    "(slope, intercept, r_value, p_value, std_err) = linregress(lats, temps)\n",
    "#Get teh equation fo the line. \n",
    "line_eq = \"y = \" +str(round(slope, 2)) + \"x + \" +str(round(intercept, 2))\n",
    "print(line_eq)"
   ]
  },
  {
   "cell_type": "code",
   "execution_count": 5,
   "id": "d77e74c5",
   "metadata": {},
   "outputs": [
    {
     "name": "stdout",
     "output_type": "stream",
     "text": [
      "The p-value is: 0.011\n"
     ]
    }
   ],
   "source": [
    "print(f\"The p-value is: {p_value:.3f}\")"
   ]
  },
  {
   "cell_type": "code",
   "execution_count": 6,
   "id": "c390196c",
   "metadata": {},
   "outputs": [],
   "source": [
    "regress_value = [(lat * slope + intercept) for lat in lats]\n"
   ]
  },
  {
   "cell_type": "code",
   "execution_count": 21,
   "id": "fd5f009d",
   "metadata": {},
   "outputs": [
    {
     "data": {
      "image/png": "[encoded data removed]",
      "text/plain": [
       "<Figure size 432x288 with 1 Axes>"
      ]
     },
     "metadata": {
      "needs_background": "light"
     },
     "output_type": "display_data"
    }
   ],
   "source": [
    "#Import Matplotlib.\n",
    "import matplotlib.pyplot as plt\n",
    "#create a scatter plot of the x and y values\n",
    "plt.scatter(lats, temps)\n",
    "#Plot the regression line with the x-values and the y coordinates based on the intercept and slope.\n",
    "plt.plot(lats, regress_value,\"r\")\n",
    "#Annotate the text for the line equation and add its coordinates.\n",
    "plt.annotate(line_eq, (10,60), fontsize = 15, color =\"red\")\n",
    "plt.xlabel(\"Latitude\", fontsize = 12)\n",
    "plt.ylabel(\"Temp\", fontsize = 12)\n",
    "plt.show()\n"
   ]
  },
  {
   "cell_type": "code",
   "execution_count": null,
   "id": "dc1a132a",
   "metadata": {},
   "outputs": [],
   "source": []
  }
 ],
 "metadata": {
  "kernelspec": {
   "display_name": "PythonData",
   "language": "python",
   "name": "pythondata"
  },
  "language_info": {
   "codemirror_mode": {
    "name": "ipython",
    "version": 3
   },
   "file_extension": ".py",
   "mimetype": "text/x-python",
   "name": "python",
   "nbconvert_exporter": "python",
   "pygments_lexer": "ipython3",
   "version": "3.7.13"
  }
 },
 "nbformat": 4,
 "nbformat_minor": 5
}
